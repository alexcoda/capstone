{
 "cells": [
  {
   "cell_type": "markdown",
   "metadata": {},
   "source": [
    "This notebook is for creating an annotated bibliography of works.\n",
    "\n",
    "Each paper should be read through, and given a brief summary. An example template of what information should be taken from each paper, and how to format it, is given below."
   ]
  },
  {
   "cell_type": "markdown",
   "metadata": {},
   "source": [
    "# Index\n",
    "\n",
    "**Section1**\n",
    "\n",
    "[Template](#template)\n",
    "\n",
    "etc...\n",
    "\n",
    "___\n",
    "___"
   ]
  },
  {
   "cell_type": "markdown",
   "metadata": {},
   "source": [
    "<a id='template'></a>\n",
    "\n",
    "# Paper Title\n",
    "[link to the paper](https://www.google.com)\n",
    "\n",
    "**keywords**: *word1, word2, word3, ...*\n",
    "\n",
    "### Main idea\n",
    "1 or 2 sentences each (in list format) on:\n",
    "1. The task they're trying to solve\n",
    "2. The architecture and features used\n",
    "3. How they do\n",
    "\n",
    "### A Picture is worth a thousand words\n",
    "\n",
    "![The most important figure from the paper, along with this alt-text](https://raw.githubusercontent.com/junyanz/iGAN/master/pics/demo_teaser.jpg)\n",
    "\n",
    "### Utility\n",
    "A few sentence discussion about what is useful from this paper for our project\n",
    "\n",
    "### Criticisms & Failures\n",
    "A few sentence discussion of both:\n",
    "1. Any failures or shortcommings they report on\n",
    "2. Any criticisms of their methodology\n",
    "\n",
    "### Commentary\n",
    "Several sentences for any extraneous commentary on the paper not covered in the above categories"
   ]
  },
  {
   "cell_type": "code",
   "execution_count": null,
   "metadata": {
    "collapsed": true
   },
   "outputs": [],
   "source": []
  }
 ],
 "metadata": {
  "kernelspec": {
   "display_name": "Python 3",
   "language": "python",
   "name": "python3"
  },
  "language_info": {
   "codemirror_mode": {
    "name": "ipython",
    "version": 3
   },
   "file_extension": ".py",
   "mimetype": "text/x-python",
   "name": "python",
   "nbconvert_exporter": "python",
   "pygments_lexer": "ipython3",
   "version": "3.6.3"
  }
 },
 "nbformat": 4,
 "nbformat_minor": 2
}
