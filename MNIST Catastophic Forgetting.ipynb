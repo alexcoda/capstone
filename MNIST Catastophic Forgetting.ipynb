{
 "cells": [
  {
   "cell_type": "code",
   "execution_count": 1,
   "metadata": {},
   "outputs": [],
   "source": [
    "from __future__ import print_function\n",
    "import argparse\n",
    "import torch\n",
    "import torch.nn as nn\n",
    "import torch.nn.functional as F\n",
    "import torch.optim as optim\n",
    "from torchvision import datasets, transforms\n",
    "from tqdm import tqdm_notebook as tqdm\n",
    "import numpy as np\n",
    "import sys "
   ]
  },
  {
   "cell_type": "code",
   "execution_count": 2,
   "metadata": {
    "collapsed": true
   },
   "outputs": [],
   "source": [
    "class Net(nn.Module):\n",
    "    def __init__(self):\n",
    "        super(Net, self).__init__()\n",
    "        self.conv1 = nn.Conv2d(1, 10, kernel_size=5)\n",
    "        self.conv2 = nn.Conv2d(10, 20, kernel_size=5)\n",
    "        self.conv2_drop = nn.Dropout2d()\n",
    "        self.fc1 = nn.Linear(320, 50)\n",
    "        self.fc2 = nn.Linear(50, 10)\n",
    "\n",
    "    def forward(self, x):\n",
    "        x = F.relu(F.max_pool2d(self.conv1(x), 2))\n",
    "        x = F.relu(F.max_pool2d(self.conv2_drop(self.conv2(x)), 2))\n",
    "        x = x.view(-1, 320)\n",
    "        x = F.relu(self.fc1(x))\n",
    "        x = F.dropout(x, training=self.training)\n",
    "        x = self.fc2(x)\n",
    "        return F.log_softmax(x, dim=1)"
   ]
  },
  {
   "cell_type": "code",
   "execution_count": 4,
   "metadata": {
    "collapsed": true
   },
   "outputs": [],
   "source": [
    "epoch_train_loss = []\n",
    "epoch_train_accuracy = []\n",
    "def train( model, device, train_loader, optimizer, epoch):\n",
    "    global log_interval\n",
    "    model.train()\n",
    "    pbar = tqdm(train_loader, file=sys.stdout)\n",
    "    total_loss = 0\n",
    "    batches = 0\n",
    "    accuracy = 0\n",
    "    n_examples = 0\n",
    "    correct =0 \n",
    "    for (data, target) in pbar:\n",
    "        batches += 1\n",
    "        data, target = data.to(device), target.to(device)\n",
    "        optimizer.zero_grad()\n",
    "        output = model(data)\n",
    "        pred = output.max(1, keepdim=True)[1] # get the index of the max log-probability\n",
    "        correct += pred.eq(target.view_as(pred)).sum().item()\n",
    "        n_examples += target.shape[0]\n",
    "        loss = F.nll_loss(output, target)\n",
    "        pbar.set_description(\"Loss: %.4f\"%loss.item())\n",
    "        pbar.update(1)\n",
    "        loss.backward()\n",
    "        optimizer.step()\n",
    "        total_loss += loss.item()\n",
    "    epoch_train_loss.append(total_loss/batches)\n",
    "    epoch_train_accuracy.append(correct/(n_examples*1.0))\n",
    "#         if batch_idx % log_interval == 0:\n",
    "#             print('Train Epoch: {} [{}/{} ({:.0f}%)]\\tLoss: {:.6f}'.format(\n",
    "#                 epoch, batch_idx * len(data), len(train_loader.dataset),\n",
    "#                 100. * batch_idx / len(train_loader), loss.item()))\n",
    "\n",
    "def test(model, device, test_loader):\n",
    "    model.eval()\n",
    "    test_loss = 0\n",
    "    correct = 0\n",
    "    n_examples = 0\n",
    "    with torch.no_grad():\n",
    "        for data, target in test_loader:\n",
    "            data, target = data.to(device), target.to(device)\n",
    "            output = model(data)\n",
    "            test_loss += F.nll_loss(output, target, reduction='sum').item() # sum up batch loss\n",
    "            pred = output.max(1, keepdim=True)[1] # get the index of the max log-probability\n",
    "            correct += pred.eq(target.view_as(pred)).sum().item()\n",
    "            n_examples += target.shape[0]\n",
    "\n",
    "    test_loss /= n_examples\n",
    "    print('\\nTest set: Average loss: {:.4f}, Accuracy: {}/{} ({:.0f}%)\\n'.format(\n",
    "        test_loss, correct, n_examples,\n",
    "        100. * correct / n_examples))"
   ]
  },
  {
   "cell_type": "code",
   "execution_count": 5,
   "metadata": {
    "collapsed": true
   },
   "outputs": [],
   "source": [
    "def collate_fn_task1(data):\n",
    "    classes = [0,1,2,3,4]\n",
    "    images, cl = zip(*data)\n",
    "    images = torch.stack(images, 0)\n",
    "    cl = torch.stack(cl, 0)\n",
    "#     print(images.shape)\n",
    "    final_images = []\n",
    "    final_classes = []\n",
    "    idx = []\n",
    "    for i,c in enumerate(cl):\n",
    "#         print(c.data)\n",
    "        if c.data in classes:\n",
    "            idx.append(i)\n",
    "#     print(cl, idx)\n",
    "    final_images = images[idx,:,:,:]\n",
    "    final_classes = cl[idx]\n",
    "#     print(final_classes)\n",
    "    return (final_images, final_classes)"
   ]
  },
  {
   "cell_type": "code",
   "execution_count": 6,
   "metadata": {
    "collapsed": true
   },
   "outputs": [],
   "source": [
    "def collate_fn_task2(data):\n",
    "    classes = [5,6,7,8,9]\n",
    "    images, cl = zip(*data)\n",
    "    images = torch.stack(images, 0)\n",
    "    cl = torch.stack(cl, 0)\n",
    "#     print(images.shape)\n",
    "    final_images = []\n",
    "    final_classes = []\n",
    "    idx = []\n",
    "    for i,c in enumerate(cl):\n",
    "#         print(c.data)\n",
    "        if c.data in classes:\n",
    "            idx.append(i)\n",
    "#     print(cl, idx)\n",
    "    final_images = images[idx,:,:,:]\n",
    "    final_classes = cl[idx]\n",
    "#     print(final_classes)\n",
    "    return (final_images, final_classes)"
   ]
  },
  {
   "cell_type": "code",
   "execution_count": 7,
   "metadata": {
    "collapsed": true
   },
   "outputs": [],
   "source": [
    "use_cuda = torch.cuda.is_available()\n",
    "\n",
    "# torch.manual_seed(args.seed)\n",
    "batch_size = 64\n",
    "test_batch_size = 1000\n",
    "log_interval = 100\n",
    "lr = 0.01\n",
    "momentum = 0.5\n",
    "epochs = 10\n",
    "device = torch.device(\"cuda\" if use_cuda else \"cpu\")\n",
    "\n",
    "kwargs = {'num_workers': 1, 'pin_memory': True} if use_cuda else {}\n",
    "train_loader = torch.utils.data.DataLoader(\n",
    "    datasets.MNIST('./data', train=True, download=True,\n",
    "                   transform=transforms.Compose([\n",
    "                       transforms.ToTensor(),\n",
    "                       transforms.Normalize((0.1307,), (0.3081,))\n",
    "                   ])),\n",
    "    batch_size=batch_size, shuffle=True, collate_fn=collate_fn_task1, **kwargs)\n",
    "test_loader = torch.utils.data.DataLoader(\n",
    "    datasets.MNIST('./data', train=False, transform=transforms.Compose([\n",
    "                       transforms.ToTensor(),\n",
    "                       transforms.Normalize((0.1307,), (0.3081,))\n",
    "                   ])),\n",
    "    batch_size=test_batch_size, shuffle=True, collate_fn=collate_fn_task1, **kwargs)"
   ]
  },
  {
   "cell_type": "code",
   "execution_count": 8,
   "metadata": {},
   "outputs": [
    {
     "data": {
      "application/vnd.jupyter.widget-view+json": {
       "model_id": "b98624d7697646028079f7c515e17165"
      }
     },
     "metadata": {},
     "output_type": "display_data"
    },
    {
     "name": "stdout",
     "output_type": "stream",
     "text": [
      "\n",
      "\n",
      "Test set: Average loss: 0.0405, Accuracy: 5067/5139 (99%)\n",
      "\n"
     ]
    },
    {
     "data": {
      "application/vnd.jupyter.widget-view+json": {
       "model_id": "063887a66e5c46a780802e26aa616af2"
      }
     },
     "metadata": {},
     "output_type": "display_data"
    },
    {
     "name": "stdout",
     "output_type": "stream",
     "text": [
      "\n",
      "\n",
      "Test set: Average loss: 0.0296, Accuracy: 5087/5139 (99%)\n",
      "\n"
     ]
    },
    {
     "data": {
      "application/vnd.jupyter.widget-view+json": {
       "model_id": "e9ad9f0fd87c44459ac7f101039e0158"
      }
     },
     "metadata": {},
     "output_type": "display_data"
    },
    {
     "name": "stdout",
     "output_type": "stream",
     "text": [
      "\n",
      "\n",
      "Test set: Average loss: 0.0216, Accuracy: 5097/5139 (99%)\n",
      "\n"
     ]
    },
    {
     "data": {
      "application/vnd.jupyter.widget-view+json": {
       "model_id": "15bccf3ebf924176bbef1ace9830e10a"
      }
     },
     "metadata": {},
     "output_type": "display_data"
    },
    {
     "name": "stdout",
     "output_type": "stream",
     "text": [
      "\n",
      "\n",
      "Test set: Average loss: 0.0165, Accuracy: 5104/5139 (99%)\n",
      "\n"
     ]
    },
    {
     "data": {
      "application/vnd.jupyter.widget-view+json": {
       "model_id": "d3ffffd8cec94ae8ad4010506b13f74a"
      }
     },
     "metadata": {},
     "output_type": "display_data"
    },
    {
     "name": "stdout",
     "output_type": "stream",
     "text": [
      "\n",
      "\n",
      "Test set: Average loss: 0.0135, Accuracy: 5112/5139 (99%)\n",
      "\n"
     ]
    },
    {
     "data": {
      "application/vnd.jupyter.widget-view+json": {
       "model_id": "02d89ebfd49149999ae72562045ff07e"
      }
     },
     "metadata": {},
     "output_type": "display_data"
    },
    {
     "name": "stdout",
     "output_type": "stream",
     "text": [
      "\n",
      "\n",
      "Test set: Average loss: 0.0145, Accuracy: 5114/5139 (100%)\n",
      "\n"
     ]
    },
    {
     "data": {
      "application/vnd.jupyter.widget-view+json": {
       "model_id": "31a588c35b1047a5befffc1bace7538b"
      }
     },
     "metadata": {},
     "output_type": "display_data"
    },
    {
     "name": "stdout",
     "output_type": "stream",
     "text": [
      "\n",
      "\n",
      "Test set: Average loss: 0.0108, Accuracy: 5119/5139 (100%)\n",
      "\n"
     ]
    },
    {
     "data": {
      "application/vnd.jupyter.widget-view+json": {
       "model_id": "09c1fe60fb724d358f31394639b2ec6d"
      }
     },
     "metadata": {},
     "output_type": "display_data"
    },
    {
     "name": "stdout",
     "output_type": "stream",
     "text": [
      "\n",
      "\n",
      "Test set: Average loss: 0.0101, Accuracy: 5121/5139 (100%)\n",
      "\n"
     ]
    },
    {
     "data": {
      "application/vnd.jupyter.widget-view+json": {
       "model_id": "49faa35e7d6c45238e236eeb44f23c0d"
      }
     },
     "metadata": {},
     "output_type": "display_data"
    },
    {
     "name": "stdout",
     "output_type": "stream",
     "text": [
      "\n",
      "\n",
      "Test set: Average loss: 0.0108, Accuracy: 5121/5139 (100%)\n",
      "\n"
     ]
    },
    {
     "data": {
      "application/vnd.jupyter.widget-view+json": {
       "model_id": "a707e6f2c2134732aa4686798a259a07"
      }
     },
     "metadata": {},
     "output_type": "display_data"
    },
    {
     "name": "stdout",
     "output_type": "stream",
     "text": [
      "\n",
      "\n",
      "Test set: Average loss: 0.0119, Accuracy: 5116/5139 (100%)\n",
      "\n"
     ]
    }
   ],
   "source": [
    "model = Net().to(device)\n",
    "optimizer = optim.SGD(model.parameters(), lr=lr, momentum=momentum)\n",
    "for epoch in range(1, epochs + 1):\n",
    "    train(model, device, train_loader, optimizer, epoch)\n",
    "    test(model, device, test_loader)"
   ]
  },
  {
   "cell_type": "code",
   "execution_count": 9,
   "metadata": {
    "collapsed": true
   },
   "outputs": [],
   "source": [
    "task1_train = epoch_train_accuracy\n",
    "task1_loss = epoch_train_loss\n",
    "epoch_train_accuracy = []\n",
    "epoch_train_loss = []"
   ]
  },
  {
   "cell_type": "markdown",
   "metadata": {},
   "source": [
    "# Task 2"
   ]
  },
  {
   "cell_type": "code",
   "execution_count": 10,
   "metadata": {
    "collapsed": true
   },
   "outputs": [],
   "source": [
    "#Setting training as Task 2\n",
    "train_loader2 = torch.utils.data.DataLoader(\n",
    "    datasets.MNIST('./data', train=True, download=True,\n",
    "                   transform=transforms.Compose([\n",
    "                       transforms.ToTensor(),\n",
    "                       transforms.Normalize((0.1307,), (0.3081,))\n",
    "                   ])),\n",
    "    batch_size=batch_size, shuffle=True, collate_fn=collate_fn_task2, **kwargs)\n",
    "\n",
    "# Setting test as Task 1\n",
    "test_loader1 = torch.utils.data.DataLoader(\n",
    "    datasets.MNIST('./data', train=False, transform=transforms.Compose([\n",
    "                       transforms.ToTensor(),\n",
    "                       transforms.Normalize((0.1307,), (0.3081,))\n",
    "                   ])),\n",
    "    batch_size=test_batch_size, shuffle=True, collate_fn=collate_fn_task1, **kwargs)\n",
    "\n",
    "test_loader2 = torch.utils.data.DataLoader(\n",
    "    datasets.MNIST('./data', train=False, transform=transforms.Compose([\n",
    "                       transforms.ToTensor(),\n",
    "                       transforms.Normalize((0.1307,), (0.3081,))\n",
    "                   ])),\n",
    "    batch_size=test_batch_size, shuffle=True, collate_fn=collate_fn_task2, **kwargs)"
   ]
  },
  {
   "cell_type": "code",
   "execution_count": 11,
   "metadata": {},
   "outputs": [
    {
     "data": {
      "application/vnd.jupyter.widget-view+json": {
       "model_id": "34f2400a77ad44bb835a21160bd0aaab"
      }
     },
     "metadata": {},
     "output_type": "display_data"
    },
    {
     "name": "stdout",
     "output_type": "stream",
     "text": [
      "\n",
      "\n",
      "Test set: Average loss: 7.5736, Accuracy: 25/5139 (0%)\n",
      "\n",
      "\n",
      "Test set: Average loss: 0.0858, Accuracy: 4720/4861 (97%)\n",
      "\n"
     ]
    },
    {
     "data": {
      "application/vnd.jupyter.widget-view+json": {
       "model_id": "5f8d9f6b42c84251acc5a5d2334ee6ab"
      }
     },
     "metadata": {},
     "output_type": "display_data"
    },
    {
     "name": "stdout",
     "output_type": "stream",
     "text": [
      "\n",
      "\n",
      "Test set: Average loss: 8.2413, Accuracy: 1/5139 (0%)\n",
      "\n",
      "\n",
      "Test set: Average loss: 0.0586, Accuracy: 4776/4861 (98%)\n",
      "\n"
     ]
    },
    {
     "data": {
      "application/vnd.jupyter.widget-view+json": {
       "model_id": "f59eb25ed12448ba99ab882ac6531d9e"
      }
     },
     "metadata": {},
     "output_type": "display_data"
    },
    {
     "name": "stdout",
     "output_type": "stream",
     "text": [
      "\n",
      "\n",
      "Test set: Average loss: 9.1383, Accuracy: 0/5139 (0%)\n",
      "\n",
      "\n",
      "Test set: Average loss: 0.0436, Accuracy: 4794/4861 (99%)\n",
      "\n"
     ]
    },
    {
     "data": {
      "application/vnd.jupyter.widget-view+json": {
       "model_id": "4e29cf0bb35841b5928415ab6d97badc"
      }
     },
     "metadata": {},
     "output_type": "display_data"
    },
    {
     "name": "stdout",
     "output_type": "stream",
     "text": [
      "\n",
      "\n",
      "Test set: Average loss: 8.8742, Accuracy: 0/5139 (0%)\n",
      "\n",
      "\n",
      "Test set: Average loss: 0.0405, Accuracy: 4796/4861 (99%)\n",
      "\n"
     ]
    },
    {
     "data": {
      "application/vnd.jupyter.widget-view+json": {
       "model_id": "60d2a31f25b74e90b46df2562bdc3959"
      }
     },
     "metadata": {},
     "output_type": "display_data"
    },
    {
     "name": "stdout",
     "output_type": "stream",
     "text": [
      "\n",
      "\n",
      "Test set: Average loss: 10.0186, Accuracy: 0/5139 (0%)\n",
      "\n",
      "\n",
      "Test set: Average loss: 0.0390, Accuracy: 4805/4861 (99%)\n",
      "\n"
     ]
    },
    {
     "data": {
      "application/vnd.jupyter.widget-view+json": {
       "model_id": "d39db5b979a444929ebb38df16dcd20a"
      }
     },
     "metadata": {},
     "output_type": "display_data"
    },
    {
     "name": "stdout",
     "output_type": "stream",
     "text": [
      "\n",
      "\n",
      "Test set: Average loss: 9.9763, Accuracy: 0/5139 (0%)\n",
      "\n",
      "\n",
      "Test set: Average loss: 0.0340, Accuracy: 4809/4861 (99%)\n",
      "\n"
     ]
    },
    {
     "data": {
      "application/vnd.jupyter.widget-view+json": {
       "model_id": "f6fe0fa7ebbb45e99e28a8bf6faf5caf"
      }
     },
     "metadata": {},
     "output_type": "display_data"
    },
    {
     "name": "stdout",
     "output_type": "stream",
     "text": [
      "\n",
      "\n",
      "Test set: Average loss: 10.5614, Accuracy: 0/5139 (0%)\n",
      "\n",
      "\n",
      "Test set: Average loss: 0.0349, Accuracy: 4807/4861 (99%)\n",
      "\n"
     ]
    },
    {
     "data": {
      "application/vnd.jupyter.widget-view+json": {
       "model_id": "019a941eee794734a3e4eb435ab6a79d"
      }
     },
     "metadata": {},
     "output_type": "display_data"
    },
    {
     "name": "stdout",
     "output_type": "stream",
     "text": [
      "\n",
      "\n",
      "Test set: Average loss: 11.0090, Accuracy: 0/5139 (0%)\n",
      "\n",
      "\n",
      "Test set: Average loss: 0.0303, Accuracy: 4818/4861 (99%)\n",
      "\n"
     ]
    },
    {
     "data": {
      "application/vnd.jupyter.widget-view+json": {
       "model_id": "679e700f5ed3436f87b1bd51c0251308"
      }
     },
     "metadata": {},
     "output_type": "display_data"
    },
    {
     "name": "stdout",
     "output_type": "stream",
     "text": [
      "\n",
      "\n",
      "Test set: Average loss: 11.2231, Accuracy: 0/5139 (0%)\n",
      "\n",
      "\n",
      "Test set: Average loss: 0.0304, Accuracy: 4812/4861 (99%)\n",
      "\n"
     ]
    },
    {
     "data": {
      "application/vnd.jupyter.widget-view+json": {
       "model_id": "41dc30a9798e476cbd05b9b63a6851e5"
      }
     },
     "metadata": {},
     "output_type": "display_data"
    },
    {
     "name": "stdout",
     "output_type": "stream",
     "text": [
      "\n",
      "\n",
      "Test set: Average loss: 11.0613, Accuracy: 0/5139 (0%)\n",
      "\n",
      "\n",
      "Test set: Average loss: 0.0263, Accuracy: 4819/4861 (99%)\n",
      "\n"
     ]
    }
   ],
   "source": [
    "for epoch in range(1, epochs + 1):\n",
    "    train(model, device, train_loader2, optimizer, epoch)\n",
    "    test(model, device, test_loader1)\n",
    "    test(model, device, test_loader2)"
   ]
  },
  {
   "cell_type": "code",
   "execution_count": 12,
   "metadata": {
    "collapsed": true
   },
   "outputs": [],
   "source": [
    "task2_train = epoch_train_accuracy\n",
    "task2_loss = epoch_train_loss\n",
    "epoch_train_accuracy = []\n",
    "epoch_train_loss = []"
   ]
  },
  {
   "cell_type": "markdown",
   "metadata": {},
   "source": [
    "# Retrain on Task 1"
   ]
  },
  {
   "cell_type": "code",
   "execution_count": 13,
   "metadata": {},
   "outputs": [
    {
     "data": {
      "application/vnd.jupyter.widget-view+json": {
       "model_id": "7bf730142e6a4c92904704fdbb526426"
      }
     },
     "metadata": {},
     "output_type": "display_data"
    },
    {
     "name": "stdout",
     "output_type": "stream",
     "text": [
      "\n",
      "\n",
      "Test set: Average loss: 0.0169, Accuracy: 5101/5139 (99%)\n",
      "\n",
      "\n",
      "Test set: Average loss: 8.3146, Accuracy: 62/4861 (1%)\n",
      "\n"
     ]
    },
    {
     "data": {
      "application/vnd.jupyter.widget-view+json": {
       "model_id": "9c8468a7579f4e1bac9f083cc91f2d2f"
      }
     },
     "metadata": {},
     "output_type": "display_data"
    },
    {
     "name": "stdout",
     "output_type": "stream",
     "text": [
      "\n",
      "\n",
      "Test set: Average loss: 0.0126, Accuracy: 5115/5139 (100%)\n",
      "\n",
      "\n",
      "Test set: Average loss: 9.5416, Accuracy: 17/4861 (0%)\n",
      "\n"
     ]
    },
    {
     "data": {
      "application/vnd.jupyter.widget-view+json": {
       "model_id": "c1ef75adeeb647799092e1ce36951151"
      }
     },
     "metadata": {},
     "output_type": "display_data"
    },
    {
     "name": "stdout",
     "output_type": "stream",
     "text": [
      "\n",
      "\n",
      "Test set: Average loss: 0.0079, Accuracy: 5123/5139 (100%)\n",
      "\n",
      "\n",
      "Test set: Average loss: 10.8523, Accuracy: 11/4861 (0%)\n",
      "\n"
     ]
    },
    {
     "data": {
      "application/vnd.jupyter.widget-view+json": {
       "model_id": "edfdf8e2e8bb44f19c216888e6be1cb9"
      }
     },
     "metadata": {},
     "output_type": "display_data"
    },
    {
     "name": "stdout",
     "output_type": "stream",
     "text": [
      "\n",
      "\n",
      "Test set: Average loss: 0.0088, Accuracy: 5124/5139 (100%)\n",
      "\n",
      "\n",
      "Test set: Average loss: 12.0623, Accuracy: 2/4861 (0%)\n",
      "\n"
     ]
    },
    {
     "data": {
      "application/vnd.jupyter.widget-view+json": {
       "model_id": "028f701bf151442384565a06c3c5a99c"
      }
     },
     "metadata": {},
     "output_type": "display_data"
    },
    {
     "name": "stdout",
     "output_type": "stream",
     "text": [
      "\n",
      "\n",
      "Test set: Average loss: 0.0096, Accuracy: 5120/5139 (100%)\n",
      "\n",
      "\n",
      "Test set: Average loss: 11.5450, Accuracy: 2/4861 (0%)\n",
      "\n"
     ]
    },
    {
     "data": {
      "application/vnd.jupyter.widget-view+json": {
       "model_id": "7aa953b7d145412a83974c4eec6ebfc0"
      }
     },
     "metadata": {},
     "output_type": "display_data"
    },
    {
     "name": "stdout",
     "output_type": "stream",
     "text": [
      "\n",
      "\n",
      "Test set: Average loss: 0.0067, Accuracy: 5128/5139 (100%)\n",
      "\n",
      "\n",
      "Test set: Average loss: 11.1862, Accuracy: 3/4861 (0%)\n",
      "\n"
     ]
    },
    {
     "data": {
      "application/vnd.jupyter.widget-view+json": {
       "model_id": "804c7cdf07cd4280a2e0d4cfe79cd9bc"
      }
     },
     "metadata": {},
     "output_type": "display_data"
    },
    {
     "name": "stdout",
     "output_type": "stream",
     "text": [
      "\n",
      "\n",
      "Test set: Average loss: 0.0066, Accuracy: 5129/5139 (100%)\n",
      "\n",
      "\n",
      "Test set: Average loss: 11.6763, Accuracy: 0/4861 (0%)\n",
      "\n"
     ]
    },
    {
     "data": {
      "application/vnd.jupyter.widget-view+json": {
       "model_id": "ea307f5ad7204f438f44826d00800a62"
      }
     },
     "metadata": {},
     "output_type": "display_data"
    },
    {
     "name": "stdout",
     "output_type": "stream",
     "text": [
      "\n",
      "\n",
      "Test set: Average loss: 0.0064, Accuracy: 5127/5139 (100%)\n",
      "\n",
      "\n",
      "Test set: Average loss: 13.0922, Accuracy: 0/4861 (0%)\n",
      "\n"
     ]
    },
    {
     "data": {
      "application/vnd.jupyter.widget-view+json": {
       "model_id": "98302c4b383344b3889b642b2c92af39"
      }
     },
     "metadata": {},
     "output_type": "display_data"
    },
    {
     "name": "stdout",
     "output_type": "stream",
     "text": [
      "\n",
      "\n",
      "Test set: Average loss: 0.0073, Accuracy: 5124/5139 (100%)\n",
      "\n",
      "\n",
      "Test set: Average loss: 13.0570, Accuracy: 0/4861 (0%)\n",
      "\n"
     ]
    },
    {
     "data": {
      "application/vnd.jupyter.widget-view+json": {
       "model_id": "6682e51470ae434ca29efd7fda168b42"
      }
     },
     "metadata": {},
     "output_type": "display_data"
    },
    {
     "name": "stdout",
     "output_type": "stream",
     "text": [
      "\n",
      "\n",
      "Test set: Average loss: 0.0067, Accuracy: 5128/5139 (100%)\n",
      "\n",
      "\n",
      "Test set: Average loss: 12.4128, Accuracy: 3/4861 (0%)\n",
      "\n"
     ]
    }
   ],
   "source": [
    "for epoch in range(1, epochs + 1):\n",
    "    train(model, device, train_loader, optimizer, epoch)\n",
    "    test(model, device, test_loader1)\n",
    "    test(model, device, test_loader2)"
   ]
  },
  {
   "cell_type": "code",
   "execution_count": 14,
   "metadata": {
    "collapsed": true
   },
   "outputs": [],
   "source": [
    "retrain_task1_train = epoch_train_accuracy\n",
    "retrain_task1_loss = epoch_train_loss\n",
    "epoch_train_accuracy = []\n",
    "epoch_train_loss = []"
   ]
  },
  {
   "cell_type": "code",
   "execution_count": 15,
   "metadata": {
    "collapsed": true
   },
   "outputs": [],
   "source": [
    "import matplotlib.pyplot as plt\n",
    "%matplotlib inline"
   ]
  },
  {
   "cell_type": "code",
   "execution_count": 16,
   "metadata": {},
   "outputs": [
    {
     "name": "stdout",
     "output_type": "stream",
     "text": [
      "[0.86014512 0.96447248 0.97267617 0.97679435 0.97963786 0.98019349\n",
      " 0.98212185 0.98362531 0.98418094 0.98503072 0.74789144 0.92436403\n",
      " 0.94320501 0.95089104 0.95629846 0.96119576 0.96517481 0.9666712\n",
      " 0.9693239  0.97143246 0.92773565 0.97123807 0.97875539 0.97980128\n",
      " 0.98166427 0.98401752 0.9846712  0.98476925 0.98561904 0.98604393]\n"
     ]
    }
   ],
   "source": [
    "all_train_accuracy = np.array([task1_train, task2_train, retrain_task1_train]).flatten()\n",
    "print(all_train_accuracy)"
   ]
  },
  {
   "cell_type": "code",
   "execution_count": 18,
   "metadata": {},
   "outputs": [
    {
     "data": {
      "text/plain": [
       "[<matplotlib.lines.Line2D at 0x124aed6a0>]"
      ]
     },
     "execution_count": 18,
     "metadata": {},
     "output_type": "execute_result"
    },
    {
     "data": {
      "image/png": "[encoded data removed]",
      "text/plain": [
       "<Figure size 432x288 with 1 Axes>"
      ]
     },
     "metadata": {},
     "output_type": "display_data"
    }
   ],
   "source": [
    "plt.ylim(0,1)\n",
    "plt.plot(range(len(all_train_accuracy)), all_train_accuracy)"
   ]
  },
  {
   "cell_type": "code",
   "execution_count": 19,
   "metadata": {},
   "outputs": [
    {
     "name": "stdout",
     "output_type": "stream",
     "text": [
      "\n",
      "Test set: Average loss: 6.0373, Accuracy: 5131/10000 (51%)\n",
      "\n"
     ]
    }
   ],
   "source": [
    "test_loader_all = torch.utils.data.DataLoader(\n",
    "    datasets.MNIST('./data', train=False, transform=transforms.Compose([\n",
    "                       transforms.ToTensor(),\n",
    "                       transforms.Normalize((0.1307,), (0.3081,))\n",
    "                   ])),\n",
    "    batch_size=test_batch_size, shuffle=True, **kwargs)\n",
    "test(model, device, test_loader_all)"
   ]
  },
  {
   "cell_type": "code",
   "execution_count": 20,
   "metadata": {},
   "outputs": [
    {
     "name": "stdout",
     "output_type": "stream",
     "text": [
      "\n",
      "Test set: Average loss: 0.0067, Accuracy: 5128/5139 (100%)\n",
      "\n"
     ]
    }
   ],
   "source": [
    "test(model, device, test_loader1)"
   ]
  },
  {
   "cell_type": "code",
   "execution_count": 21,
   "metadata": {},
   "outputs": [
    {
     "name": "stdout",
     "output_type": "stream",
     "text": [
      "\n",
      "Test set: Average loss: 12.4128, Accuracy: 3/4861 (0%)\n",
      "\n"
     ]
    }
   ],
   "source": [
    "test(model, device, test_loader2)"
   ]
  }
 ],
 "metadata": {
  "kernelspec": {
   "display_name": "Python 3",
   "language": "python",
   "name": "python3"
  },
  "language_info": {
   "codemirror_mode": {
    "name": "ipython",
    "version": 3
   },
   "file_extension": ".py",
   "mimetype": "text/x-python",
   "name": "python",
   "nbconvert_exporter": "python",
   "pygments_lexer": "ipython3",
   "version": "3.6.1"
  }
 },
 "nbformat": 4,
 "nbformat_minor": 2
}
